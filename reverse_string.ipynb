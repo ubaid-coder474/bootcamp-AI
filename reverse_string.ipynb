{
 "cells": [
  {
   "cell_type": "code",
   "execution_count": 3,
   "id": "d3690f39-493f-4d46-bd03-e63878351e1e",
   "metadata": {},
   "outputs": [
    {
     "name": "stdout",
     "output_type": "stream",
     "text": [
      "the reverse String is:  dlroW olleH\n"
     ]
    }
   ],
   "source": [
    "string = \"Hello World\"\n",
    "\n",
    "reverse_string = string[::-1]\n",
    "print(\"the reverse String is: \",reverse_string)"
   ]
  },
  {
   "cell_type": "code",
   "execution_count": 7,
   "id": "905f14b0-bccc-4ff7-91fa-fd8bbdf92fe0",
   "metadata": {},
   "outputs": [
    {
     "name": "stdout",
     "output_type": "stream",
     "text": [
      "the reverse String is:  dlroW olleH\n",
      "Word_reversed:  World Hello\n"
     ]
    }
   ],
   "source": [
    "string = \"Hello World\"\n",
    "\n",
    "reverse_string = string[::-1]\n",
    "print(\"the reverse String is: \",reverse_string)\n",
    "\n",
    "# Now I will Reverse the words also by keeping the order\n",
    "word_reverse = ' '.join(string.split()[::-1])\n",
    "print(\"Word_reversed: \",word_reverse)"
   ]
  },
  {
   "cell_type": "code",
   "execution_count": null,
   "id": "f4f13e14-73d6-467f-a530-d37d96af8f8b",
   "metadata": {},
   "outputs": [],
   "source": []
  }
 ],
 "metadata": {
  "kernelspec": {
   "display_name": "Python [conda env:base] *",
   "language": "python",
   "name": "conda-base-py"
  },
  "language_info": {
   "codemirror_mode": {
    "name": "ipython",
    "version": 3
   },
   "file_extension": ".py",
   "mimetype": "text/x-python",
   "name": "python",
   "nbconvert_exporter": "python",
   "pygments_lexer": "ipython3",
   "version": "3.12.7"
  }
 },
 "nbformat": 4,
 "nbformat_minor": 5
}
