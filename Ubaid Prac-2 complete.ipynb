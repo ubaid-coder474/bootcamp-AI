{
 "cells": [
  {
   "cell_type": "code",
   "execution_count": 2,
   "id": "dbd5a011-8b35-4cdc-b06c-45509b8f6ca6",
   "metadata": {},
   "outputs": [],
   "source": [
    "import pandas as pd\n",
    "import numpy as np\n",
    "data = {\n",
    "    'Visitor_ID': [f'V{1000 + i}' for i in range(20)],\n",
    "    'Name': ['ABHISHEK SANDEEP      ZADE     ', 'ARNAV AJAY DESHPANDE.. ', '.. .. ASHWINI LALCHAND MUNDAWARE/ ', 'GAYATRI SURESH GAIKWAD', 'HARSHADA GANESH CHAUDHARI',\n",
    "             'VAIBHAVI HARISHWAR PATIL', np.nan, 'VISHAKHA PUNDLIK JADHAV', 'YASH BHARAT SOLUNKE/', 'VIVEK SANTOSH KHANDWE',\n",
    "             'VISHAKHA PUNDLIK JADHAV', 'Tanushree chhanwal', 'Shruti jaiswal', 'Shriyash Sulakhe', 'YASH BHARAT SOLUNKE',\n",
    "             np.nan, 'ARNAV AJAY DESHPANDE', 'RUTUJA SANTOSH THOTE', 'ROHIT DILIP BILWAL', 'RITESH SHIVAJI BAIRAGI'],\n",
    "    'Age': [25, 23, 22, np.nan, 21, 25, 24, 24, 28, np.nan,\n",
    "            22, 23, 25, 27, 25, 30, 31, 26, 19, 19],\n",
    "    'Ticket_Price': [500, 750, 500, 1000, np.nan, 500, 700, 650, 750, 1000,\n",
    "                      500, 800, np.nan, 750, 500, 700, 900, 850, 750, np.nan],\n",
    "    'Check_In_Time': ['10:00 AM', '10:30 AM', '11:00 AM', '11:30 AM', np.nan,\n",
    "                       '10:00 AM', '12:00 PM', '12:30 PM', '01:00 PM', '01:30 PM',\n",
    "                       '11:00 AM', '02:00 PM', np.nan, '02:30 PM', '10:00 AM',\n",
    "                       '12:00 PM', '03:00 PM', '03:30 PM', '04:00 PM', np.nan],\n",
    "    'City':['Delhi','Aurangabad', 'Mumbai','Bombay','New Delhi','NDL','Chennai','Chenai','Chennaai','Bangalore',\n",
    "            'Delhi','Pune', 'New Delhi','Bombay','New Delhi','NDL','Indore','Bangalore','Ujjain','Bangalore'],\n",
    "    'State': ['Delhi','Maharastra', 'Maharastra','Maharastra','Delhi','Delhi','Tamilnadu','Tamilnadu','Tamilnadu','Karnataka',\n",
    "            'Delhi','Maharastra', 'Delhi','Maharastra','Delhi','Delhi','Madhya Pradesh','Karnataka','Madhya Pradesh','Karnataka']\n",
    "}"
   ]
  },
  {
   "cell_type": "code",
   "execution_count": 12,
   "id": "6c4d2e70-a218-489b-9bde-7c86c298ca0c",
   "metadata": {},
   "outputs": [
    {
     "data": {
      "text/html": [
       "<div>\n",
       "<style scoped>\n",
       "    .dataframe tbody tr th:only-of-type {\n",
       "        vertical-align: middle;\n",
       "    }\n",
       "\n",
       "    .dataframe tbody tr th {\n",
       "        vertical-align: top;\n",
       "    }\n",
       "\n",
       "    .dataframe thead th {\n",
       "        text-align: right;\n",
       "    }\n",
       "</style>\n",
       "<table border=\"1\" class=\"dataframe\">\n",
       "  <thead>\n",
       "    <tr style=\"text-align: right;\">\n",
       "      <th></th>\n",
       "      <th>Visitor_ID</th>\n",
       "      <th>Name</th>\n",
       "      <th>Age</th>\n",
       "      <th>Ticket_Price</th>\n",
       "      <th>Check_In_Time</th>\n",
       "      <th>City</th>\n",
       "      <th>State</th>\n",
       "    </tr>\n",
       "  </thead>\n",
       "  <tbody>\n",
       "    <tr>\n",
       "      <th>0</th>\n",
       "      <td>V1000</td>\n",
       "      <td>ABHISHEK SANDEEP      ZADE</td>\n",
       "      <td>25.0</td>\n",
       "      <td>500.0</td>\n",
       "      <td>10:00 AM</td>\n",
       "      <td>Delhi</td>\n",
       "      <td>Delhi</td>\n",
       "    </tr>\n",
       "  </tbody>\n",
       "</table>\n",
       "</div>"
      ],
      "text/plain": [
       "  Visitor_ID                             Name   Age  Ticket_Price  \\\n",
       "0      V1000  ABHISHEK SANDEEP      ZADE       25.0         500.0   \n",
       "\n",
       "  Check_In_Time   City  State  \n",
       "0      10:00 AM  Delhi  Delhi  "
      ]
     },
     "execution_count": 12,
     "metadata": {},
     "output_type": "execute_result"
    }
   ],
   "source": [
    "df = pd.DataFrame(data)\n",
    "df.head(1)"
   ]
  },
  {
   "cell_type": "code",
   "execution_count": 14,
   "id": "d7033790-de0c-48f7-9f64-441c7fd6ab6d",
   "metadata": {},
   "outputs": [
    {
     "data": {
      "text/plain": [
       "(20, 7)"
      ]
     },
     "execution_count": 14,
     "metadata": {},
     "output_type": "execute_result"
    }
   ],
   "source": [
    "df.shape"
   ]
  },
  {
   "cell_type": "code",
   "execution_count": 15,
   "id": "63617671-cb81-411a-b811-ffcb07866e15",
   "metadata": {},
   "outputs": [
    {
     "data": {
      "text/plain": [
       "<bound method DataFrame.info of    Visitor_ID                                Name   Age  Ticket_Price  \\\n",
       "0       V1000     ABHISHEK SANDEEP      ZADE       25.0         500.0   \n",
       "1       V1001             ARNAV AJAY DESHPANDE..   23.0         750.0   \n",
       "2       V1002  .. .. ASHWINI LALCHAND MUNDAWARE/   22.0         500.0   \n",
       "3       V1003              GAYATRI SURESH GAIKWAD   NaN        1000.0   \n",
       "4       V1004           HARSHADA GANESH CHAUDHARI  21.0           NaN   \n",
       "5       V1005            VAIBHAVI HARISHWAR PATIL  25.0         500.0   \n",
       "6       V1006                                 NaN  24.0         700.0   \n",
       "7       V1007             VISHAKHA PUNDLIK JADHAV  24.0         650.0   \n",
       "8       V1008                YASH BHARAT SOLUNKE/  28.0         750.0   \n",
       "9       V1009               VIVEK SANTOSH KHANDWE   NaN        1000.0   \n",
       "10      V1010             VISHAKHA PUNDLIK JADHAV  22.0         500.0   \n",
       "11      V1011                  Tanushree chhanwal  23.0         800.0   \n",
       "12      V1012                      Shruti jaiswal  25.0           NaN   \n",
       "13      V1013                    Shriyash Sulakhe  27.0         750.0   \n",
       "14      V1014                 YASH BHARAT SOLUNKE  25.0         500.0   \n",
       "15      V1015                                 NaN  30.0         700.0   \n",
       "16      V1016                ARNAV AJAY DESHPANDE  31.0         900.0   \n",
       "17      V1017                RUTUJA SANTOSH THOTE  26.0         850.0   \n",
       "18      V1018                  ROHIT DILIP BILWAL  19.0         750.0   \n",
       "19      V1019              RITESH SHIVAJI BAIRAGI  19.0           NaN   \n",
       "\n",
       "   Check_In_Time        City           State  \n",
       "0       10:00 AM       Delhi           Delhi  \n",
       "1       10:30 AM  Aurangabad      Maharastra  \n",
       "2       11:00 AM      Mumbai      Maharastra  \n",
       "3       11:30 AM      Bombay      Maharastra  \n",
       "4            NaN   New Delhi           Delhi  \n",
       "5       10:00 AM         NDL           Delhi  \n",
       "6       12:00 PM     Chennai       Tamilnadu  \n",
       "7       12:30 PM      Chenai       Tamilnadu  \n",
       "8       01:00 PM    Chennaai       Tamilnadu  \n",
       "9       01:30 PM   Bangalore       Karnataka  \n",
       "10      11:00 AM       Delhi           Delhi  \n",
       "11      02:00 PM        Pune      Maharastra  \n",
       "12           NaN   New Delhi           Delhi  \n",
       "13      02:30 PM      Bombay      Maharastra  \n",
       "14      10:00 AM   New Delhi           Delhi  \n",
       "15      12:00 PM         NDL           Delhi  \n",
       "16      03:00 PM      Indore  Madhya Pradesh  \n",
       "17      03:30 PM   Bangalore       Karnataka  \n",
       "18      04:00 PM      Ujjain  Madhya Pradesh  \n",
       "19           NaN   Bangalore       Karnataka  >"
      ]
     },
     "execution_count": 15,
     "metadata": {},
     "output_type": "execute_result"
    }
   ],
   "source": [
    "df.info"
   ]
  },
  {
   "cell_type": "code",
   "execution_count": 4,
   "id": "1a96dade-29c6-45d1-94d0-3136009a522b",
   "metadata": {},
   "outputs": [
    {
     "name": "stdout",
     "output_type": "stream",
     "text": [
      "Top 5 rows:\n",
      "  Visitor_ID                                Name   Age  Ticket_Price  \\\n",
      "0      V1000     ABHISHEK SANDEEP      ZADE       25.0         500.0   \n",
      "1      V1001             ARNAV AJAY DESHPANDE..   23.0         750.0   \n",
      "2      V1002  .. .. ASHWINI LALCHAND MUNDAWARE/   22.0         500.0   \n",
      "3      V1003              GAYATRI SURESH GAIKWAD   NaN        1000.0   \n",
      "4      V1004           HARSHADA GANESH CHAUDHARI  21.0           NaN   \n",
      "\n",
      "  Check_In_Time        City       State  \n",
      "0      10:00 AM       Delhi       Delhi  \n",
      "1      10:30 AM  Aurangabad  Maharastra  \n",
      "2      11:00 AM      Mumbai  Maharastra  \n",
      "3      11:30 AM      Bombay  Maharastra  \n",
      "4           NaN   New Delhi       Delhi  \n",
      "\n",
      "Last 2 rows:\n",
      "   Visitor_ID                    Name   Age  Ticket_Price Check_In_Time  \\\n",
      "18      V1018      ROHIT DILIP BILWAL  19.0         750.0      04:00 PM   \n",
      "19      V1019  RITESH SHIVAJI BAIRAGI  19.0           NaN           NaN   \n",
      "\n",
      "         City           State  \n",
      "18     Ujjain  Madhya Pradesh  \n",
      "19  Bangalore       Karnataka  \n"
     ]
    }
   ],
   "source": [
    "\n",
    "df=pd.DataFrame(data)\n",
    "print(df.head())\n",
    "\n",
    "\n",
    "print(df.tail(2))\n"
   ]
  },
  {
   "cell_type": "code",
   "execution_count": 5,
   "id": "9c4646f4-3513-42d1-b4c5-41d460540f8f",
   "metadata": {},
   "outputs": [
    {
     "data": {
      "text/plain": [
       "Visitor_ID        object\n",
       "Name              object\n",
       "Age              float64\n",
       "Ticket_Price     float64\n",
       "Check_In_Time     object\n",
       "City              object\n",
       "State             object\n",
       "dtype: object"
      ]
     },
     "execution_count": 5,
     "metadata": {},
     "output_type": "execute_result"
    }
   ],
   "source": [
    "df.dtypes"
   ]
  },
  {
   "cell_type": "code",
   "execution_count": 6,
   "id": "ce0b9aba-da94-472c-a1bf-a496af9266ec",
   "metadata": {},
   "outputs": [
    {
     "data": {
      "text/html": [
       "<div>\n",
       "<style scoped>\n",
       "    .dataframe tbody tr th:only-of-type {\n",
       "        vertical-align: middle;\n",
       "    }\n",
       "\n",
       "    .dataframe tbody tr th {\n",
       "        vertical-align: top;\n",
       "    }\n",
       "\n",
       "    .dataframe thead th {\n",
       "        text-align: right;\n",
       "    }\n",
       "</style>\n",
       "<table border=\"1\" class=\"dataframe\">\n",
       "  <thead>\n",
       "    <tr style=\"text-align: right;\">\n",
       "      <th></th>\n",
       "      <th>Age</th>\n",
       "      <th>Ticket_Price</th>\n",
       "    </tr>\n",
       "  </thead>\n",
       "  <tbody>\n",
       "    <tr>\n",
       "      <th>count</th>\n",
       "      <td>18.000000</td>\n",
       "      <td>17.000000</td>\n",
       "    </tr>\n",
       "    <tr>\n",
       "      <th>mean</th>\n",
       "      <td>24.388889</td>\n",
       "      <td>711.764706</td>\n",
       "    </tr>\n",
       "    <tr>\n",
       "      <th>std</th>\n",
       "      <td>3.292396</td>\n",
       "      <td>170.045409</td>\n",
       "    </tr>\n",
       "    <tr>\n",
       "      <th>min</th>\n",
       "      <td>19.000000</td>\n",
       "      <td>500.000000</td>\n",
       "    </tr>\n",
       "    <tr>\n",
       "      <th>25%</th>\n",
       "      <td>22.250000</td>\n",
       "      <td>500.000000</td>\n",
       "    </tr>\n",
       "    <tr>\n",
       "      <th>50%</th>\n",
       "      <td>24.500000</td>\n",
       "      <td>750.000000</td>\n",
       "    </tr>\n",
       "    <tr>\n",
       "      <th>75%</th>\n",
       "      <td>25.750000</td>\n",
       "      <td>800.000000</td>\n",
       "    </tr>\n",
       "    <tr>\n",
       "      <th>max</th>\n",
       "      <td>31.000000</td>\n",
       "      <td>1000.000000</td>\n",
       "    </tr>\n",
       "  </tbody>\n",
       "</table>\n",
       "</div>"
      ],
      "text/plain": [
       "             Age  Ticket_Price\n",
       "count  18.000000     17.000000\n",
       "mean   24.388889    711.764706\n",
       "std     3.292396    170.045409\n",
       "min    19.000000    500.000000\n",
       "25%    22.250000    500.000000\n",
       "50%    24.500000    750.000000\n",
       "75%    25.750000    800.000000\n",
       "max    31.000000   1000.000000"
      ]
     },
     "execution_count": 6,
     "metadata": {},
     "output_type": "execute_result"
    }
   ],
   "source": [
    "df.describe()\n"
   ]
  },
  {
   "cell_type": "code",
   "execution_count": 7,
   "id": "193c6eef-9eaa-43a7-9fa9-4d399d5c2d14",
   "metadata": {},
   "outputs": [
    {
     "data": {
      "text/html": [
       "<div>\n",
       "<style scoped>\n",
       "    .dataframe tbody tr th:only-of-type {\n",
       "        vertical-align: middle;\n",
       "    }\n",
       "\n",
       "    .dataframe tbody tr th {\n",
       "        vertical-align: top;\n",
       "    }\n",
       "\n",
       "    .dataframe thead th {\n",
       "        text-align: right;\n",
       "    }\n",
       "</style>\n",
       "<table border=\"1\" class=\"dataframe\">\n",
       "  <thead>\n",
       "    <tr style=\"text-align: right;\">\n",
       "      <th></th>\n",
       "      <th>Visitor_ID</th>\n",
       "      <th>Name</th>\n",
       "      <th>Age</th>\n",
       "      <th>Ticket_Price</th>\n",
       "      <th>Check_In_Time</th>\n",
       "      <th>City</th>\n",
       "      <th>State</th>\n",
       "    </tr>\n",
       "  </thead>\n",
       "  <tbody>\n",
       "    <tr>\n",
       "      <th>count</th>\n",
       "      <td>20</td>\n",
       "      <td>18</td>\n",
       "      <td>18.000000</td>\n",
       "      <td>17.000000</td>\n",
       "      <td>17</td>\n",
       "      <td>20</td>\n",
       "      <td>20</td>\n",
       "    </tr>\n",
       "    <tr>\n",
       "      <th>unique</th>\n",
       "      <td>20</td>\n",
       "      <td>17</td>\n",
       "      <td>NaN</td>\n",
       "      <td>NaN</td>\n",
       "      <td>13</td>\n",
       "      <td>13</td>\n",
       "      <td>5</td>\n",
       "    </tr>\n",
       "    <tr>\n",
       "      <th>top</th>\n",
       "      <td>V1000</td>\n",
       "      <td>VISHAKHA PUNDLIK JADHAV</td>\n",
       "      <td>NaN</td>\n",
       "      <td>NaN</td>\n",
       "      <td>10:00 AM</td>\n",
       "      <td>New Delhi</td>\n",
       "      <td>Delhi</td>\n",
       "    </tr>\n",
       "    <tr>\n",
       "      <th>freq</th>\n",
       "      <td>1</td>\n",
       "      <td>2</td>\n",
       "      <td>NaN</td>\n",
       "      <td>NaN</td>\n",
       "      <td>3</td>\n",
       "      <td>3</td>\n",
       "      <td>7</td>\n",
       "    </tr>\n",
       "    <tr>\n",
       "      <th>mean</th>\n",
       "      <td>NaN</td>\n",
       "      <td>NaN</td>\n",
       "      <td>24.388889</td>\n",
       "      <td>711.764706</td>\n",
       "      <td>NaN</td>\n",
       "      <td>NaN</td>\n",
       "      <td>NaN</td>\n",
       "    </tr>\n",
       "    <tr>\n",
       "      <th>std</th>\n",
       "      <td>NaN</td>\n",
       "      <td>NaN</td>\n",
       "      <td>3.292396</td>\n",
       "      <td>170.045409</td>\n",
       "      <td>NaN</td>\n",
       "      <td>NaN</td>\n",
       "      <td>NaN</td>\n",
       "    </tr>\n",
       "    <tr>\n",
       "      <th>min</th>\n",
       "      <td>NaN</td>\n",
       "      <td>NaN</td>\n",
       "      <td>19.000000</td>\n",
       "      <td>500.000000</td>\n",
       "      <td>NaN</td>\n",
       "      <td>NaN</td>\n",
       "      <td>NaN</td>\n",
       "    </tr>\n",
       "    <tr>\n",
       "      <th>25%</th>\n",
       "      <td>NaN</td>\n",
       "      <td>NaN</td>\n",
       "      <td>22.250000</td>\n",
       "      <td>500.000000</td>\n",
       "      <td>NaN</td>\n",
       "      <td>NaN</td>\n",
       "      <td>NaN</td>\n",
       "    </tr>\n",
       "    <tr>\n",
       "      <th>50%</th>\n",
       "      <td>NaN</td>\n",
       "      <td>NaN</td>\n",
       "      <td>24.500000</td>\n",
       "      <td>750.000000</td>\n",
       "      <td>NaN</td>\n",
       "      <td>NaN</td>\n",
       "      <td>NaN</td>\n",
       "    </tr>\n",
       "    <tr>\n",
       "      <th>75%</th>\n",
       "      <td>NaN</td>\n",
       "      <td>NaN</td>\n",
       "      <td>25.750000</td>\n",
       "      <td>800.000000</td>\n",
       "      <td>NaN</td>\n",
       "      <td>NaN</td>\n",
       "      <td>NaN</td>\n",
       "    </tr>\n",
       "    <tr>\n",
       "      <th>max</th>\n",
       "      <td>NaN</td>\n",
       "      <td>NaN</td>\n",
       "      <td>31.000000</td>\n",
       "      <td>1000.000000</td>\n",
       "      <td>NaN</td>\n",
       "      <td>NaN</td>\n",
       "      <td>NaN</td>\n",
       "    </tr>\n",
       "  </tbody>\n",
       "</table>\n",
       "</div>"
      ],
      "text/plain": [
       "       Visitor_ID                     Name        Age  Ticket_Price  \\\n",
       "count          20                       18  18.000000     17.000000   \n",
       "unique         20                       17        NaN           NaN   \n",
       "top         V1000  VISHAKHA PUNDLIK JADHAV        NaN           NaN   \n",
       "freq            1                        2        NaN           NaN   \n",
       "mean          NaN                      NaN  24.388889    711.764706   \n",
       "std           NaN                      NaN   3.292396    170.045409   \n",
       "min           NaN                      NaN  19.000000    500.000000   \n",
       "25%           NaN                      NaN  22.250000    500.000000   \n",
       "50%           NaN                      NaN  24.500000    750.000000   \n",
       "75%           NaN                      NaN  25.750000    800.000000   \n",
       "max           NaN                      NaN  31.000000   1000.000000   \n",
       "\n",
       "       Check_In_Time       City  State  \n",
       "count             17         20     20  \n",
       "unique            13         13      5  \n",
       "top         10:00 AM  New Delhi  Delhi  \n",
       "freq               3          3      7  \n",
       "mean             NaN        NaN    NaN  \n",
       "std              NaN        NaN    NaN  \n",
       "min              NaN        NaN    NaN  \n",
       "25%              NaN        NaN    NaN  \n",
       "50%              NaN        NaN    NaN  \n",
       "75%              NaN        NaN    NaN  \n",
       "max              NaN        NaN    NaN  "
      ]
     },
     "execution_count": 7,
     "metadata": {},
     "output_type": "execute_result"
    }
   ],
   "source": [
    "df.describe(include='all')\n"
   ]
  },
  {
   "cell_type": "code",
   "execution_count": 8,
   "id": "49f314e8-1436-443e-94c8-bad6ad2a46d2",
   "metadata": {},
   "outputs": [],
   "source": [
    "import re\n"
   ]
  },
  {
   "cell_type": "code",
   "execution_count": 13,
   "id": "ab06db3b-ff80-492c-b1a1-620edb9536d1",
   "metadata": {},
   "outputs": [],
   "source": [
    "df = df.drop_duplicates()\n"
   ]
  },
  {
   "cell_type": "code",
   "execution_count": 14,
   "id": "37e35fcd-6f07-4c68-be18-8851e2d1e00c",
   "metadata": {},
   "outputs": [
    {
     "name": "stdout",
     "output_type": "stream",
     "text": [
      "   Visitor_ID                             Name   Age  Ticket_Price  \\\n",
      "0       V1000  ABHISHEK SANDEEP      ZADE       25.0         500.0   \n",
      "1       V1001            ARNAV AJAY DESHPANDE   23.0         750.0   \n",
      "2       V1002      ASHWINI LALCHAND MUNDAWARE   22.0         500.0   \n",
      "3       V1003           GAYATRI SURESH GAIKWAD   NaN        1000.0   \n",
      "4       V1004        HARSHADA GANESH CHAUDHARI  21.0           NaN   \n",
      "5       V1005         VAIBHAVI HARISHWAR PATIL  25.0         500.0   \n",
      "6       V1006                              NaN  24.0         700.0   \n",
      "7       V1007          VISHAKHA PUNDLIK JADHAV  24.0         650.0   \n",
      "8       V1008              YASH BHARAT SOLUNKE  28.0         750.0   \n",
      "9       V1009            VIVEK SANTOSH KHANDWE   NaN        1000.0   \n",
      "10      V1010          VISHAKHA PUNDLIK JADHAV  22.0         500.0   \n",
      "11      V1011               Tanushree chhanwal  23.0         800.0   \n",
      "12      V1012                   Shruti jaiswal  25.0           NaN   \n",
      "13      V1013                 Shriyash Sulakhe  27.0         750.0   \n",
      "14      V1014              YASH BHARAT SOLUNKE  25.0         500.0   \n",
      "15      V1015                              NaN  30.0         700.0   \n",
      "16      V1016             ARNAV AJAY DESHPANDE  31.0         900.0   \n",
      "17      V1017             RUTUJA SANTOSH THOTE  26.0         850.0   \n",
      "18      V1018               ROHIT DILIP BILWAL  19.0         750.0   \n",
      "19      V1019           RITESH SHIVAJI BAIRAGI  19.0           NaN   \n",
      "\n",
      "   Check_In_Time        City           State  \n",
      "0        1000 AM       Delhi           Delhi  \n",
      "1        1030 AM  Aurangabad      Maharastra  \n",
      "2        1100 AM      Mumbai      Maharastra  \n",
      "3        1130 AM      Bombay      Maharastra  \n",
      "4            NaN   New Delhi           Delhi  \n",
      "5        1000 AM         NDL           Delhi  \n",
      "6        1200 PM     Chennai       Tamilnadu  \n",
      "7        1230 PM      Chenai       Tamilnadu  \n",
      "8        0100 PM    Chennaai       Tamilnadu  \n",
      "9        0130 PM   Bangalore       Karnataka  \n",
      "10       1100 AM       Delhi           Delhi  \n",
      "11       0200 PM        Pune      Maharastra  \n",
      "12           NaN   New Delhi           Delhi  \n",
      "13       0230 PM      Bombay      Maharastra  \n",
      "14       1000 AM   New Delhi           Delhi  \n",
      "15       1200 PM         NDL           Delhi  \n",
      "16       0300 PM      Indore  Madhya Pradesh  \n",
      "17       0330 PM   Bangalore       Karnataka  \n",
      "18       0400 PM      Ujjain  Madhya Pradesh  \n",
      "19           NaN   Bangalore       Karnataka  \n"
     ]
    }
   ],
   "source": [
    "print(df)"
   ]
  },
  {
   "cell_type": "code",
   "execution_count": 30,
   "id": "02ffeb75-9c01-476d-a15d-58173c9e27d9",
   "metadata": {},
   "outputs": [
    {
     "data": {
      "image/png": "[encoded data removed]",
      "text/plain": [
       "<Figure size 640x480 with 1 Axes>"
      ]
     },
     "metadata": {},
     "output_type": "display_data"
    }
   ],
   "source": [
    "import pandas as pd\n",
    "import numpy as np\n",
    "import matplotlib.pyplot as plt\n",
    "\n",
    "\n",
    "Singer = ['Arijit Singh', 'Shreya Ghoshal', 'Sonu Nigam', 'Lata Mangeshkar', 'Kishore Kumar']\n",
    "Years_Active = [15, 20, 30, 70, 40]\n",
    "Number_of_Songs = [500, 700, 600, 1000, 800]\n",
    "Awards_Won = [50, 60, 40, 100, 80]\n",
    "\n",
    "\n",
    "plt.bar(Singer, Number_of_Songs, color='skyblue')\n",
    "\n",
    "\n",
    "plt.title('Number of Songs per Singer')\n",
    "plt.xlabel('Singers')\n",
    "plt.ylabel('Number of Songs')\n",
    "\n",
    "\n",
    "plt.show()"
   ]
  },
  {
   "cell_type": "code",
   "execution_count": 29,
   "id": "5a3c3f09-5b75-401e-b369-ba0544429a39",
   "metadata": {},
   "outputs": [
    {
     "data": {
      "image/png": "[encoded data removed]",
      "text/plain": [
       "<Figure size 640x480 with 1 Axes>"
      ]
     },
     "metadata": {},
     "output_type": "display_data"
    }
   ],
   "source": [
    "\n"
   ]
  },
  {
   "cell_type": "code",
   "execution_count": null,
   "id": "518e23a0-e90a-4569-9cbe-bd61ba141efa",
   "metadata": {},
   "outputs": [],
   "source": []
  },
  {
   "cell_type": "code",
   "execution_count": 6,
   "id": "4171fbf4-6152-43d6-ad7e-fb482ee63471",
   "metadata": {},
   "outputs": [],
   "source": [
    "\n"
   ]
  },
  {
   "cell_type": "code",
   "execution_count": null,
   "id": "b1752502-f1d8-4de9-a303-1c8b40dab92a",
   "metadata": {},
   "outputs": [],
   "source": []
  }
 ],
 "metadata": {
  "kernelspec": {
   "display_name": "Python 3 (ipykernel)",
   "language": "python",
   "name": "python3"
  },
  "language_info": {
   "codemirror_mode": {
    "name": "ipython",
    "version": 3
   },
   "file_extension": ".py",
   "mimetype": "text/x-python",
   "name": "python",
   "nbconvert_exporter": "python",
   "pygments_lexer": "ipython3",
   "version": "3.12.7"
  }
 },
 "nbformat": 4,
 "nbformat_minor": 5
}
