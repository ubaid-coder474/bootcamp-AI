{
 "cells": [
  {
   "cell_type": "code",
   "execution_count": 10,
   "id": "f086790e-bf18-4c65-9ce4-d92533566491",
   "metadata": {},
   "outputs": [
    {
     "name": "stdout",
     "output_type": "stream",
     "text": [
      "Random Numbers Are:  [79, 87, 75, 43, 1, 6, 34, 5, 51, 63]\n"
     ]
    }
   ],
   "source": [
    "import random\n",
    "random_number = [random.randint(1,100) for _ in range(10)]\n",
    "print(\"Random Numbers Are: \", random_number)"
   ]
  },
  {
   "cell_type": "code",
   "execution_count": 20,
   "id": "8f92b987-b6bc-4e58-af0e-426ace0674f2",
   "metadata": {},
   "outputs": [
    {
     "name": "stdout",
     "output_type": "stream",
     "text": [
      "Random Numbers Are:  [10, 93, 52, 81, 83, 5, 82, 7, 60, 20]\n",
      "even Numbers from the list of this random numbers are... :  [10, 52, 82, 60, 20]\n"
     ]
    }
   ],
   "source": [
    "import random\n",
    "random_number = [random.randint(1,100) for _ in range(10)]\n",
    "print(\"Random Numbers Are: \", random_number)\n",
    "\n",
    "even_numbers = [num for num in random_number if num % 2 == 0]\n",
    "print(\"even Numbers from the list of this random numbers are... : \", even_numbers)"
   ]
  },
  {
   "cell_type": "code",
   "execution_count": null,
   "id": "024711cf-1db3-4526-87e1-47a46d1c2d4c",
   "metadata": {},
   "outputs": [],
   "source": []
  }
 ],
 "metadata": {
  "kernelspec": {
   "display_name": "Python [conda env:base] *",
   "language": "python",
   "name": "conda-base-py"
  },
  "language_info": {
   "codemirror_mode": {
    "name": "ipython",
    "version": 3
   },
   "file_extension": ".py",
   "mimetype": "text/x-python",
   "name": "python",
   "nbconvert_exporter": "python",
   "pygments_lexer": "ipython3",
   "version": "3.12.7"
  }
 },
 "nbformat": 4,
 "nbformat_minor": 5
}
